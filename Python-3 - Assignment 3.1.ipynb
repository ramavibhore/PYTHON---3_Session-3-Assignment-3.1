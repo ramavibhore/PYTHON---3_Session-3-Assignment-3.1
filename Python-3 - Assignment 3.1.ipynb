{
 "cells": [
  {
   "cell_type": "code",
   "execution_count": 12,
   "metadata": {},
   "outputs": [
    {
     "name": "stdout",
     "output_type": "stream",
     "text": [
      "reduce(1,5)= 10\n"
     ]
    }
   ],
   "source": [
    "# Below Program Depicts built-in function reduce()\n",
    "\n",
    "def add(a,b): return a+b\n",
    "a = 1\n",
    "b = 5\n",
    "\n",
    "import functools\n",
    "tot = functools.reduce(add, range(a, b))\n",
    "print ('reduce('+str(a)+','+str(b)+')=' ,tot)\n",
    "\n"
   ]
  },
  {
   "cell_type": "code",
   "execution_count": 14,
   "metadata": {},
   "outputs": [
    {
     "name": "stdout",
     "output_type": "stream",
     "text": [
      "1 1\n",
      "2 3\n",
      "3 6\n",
      "4 10\n",
      "myreduce(1,5)= 10\n"
     ]
    }
   ],
   "source": [
    "#Write a Python Program to implement your own myreduce() function which works exactly like Python's built-in function reduce()\n",
    "\n",
    "def myreduce(a,b):\n",
    "    tot = 0\n",
    "    for i in range(a,b):\n",
    "        tot = tot + i\n",
    "        print (i,tot)\n",
    "    print ('myreduce('+str(a)+','+str(b)+')=' ,tot)\n",
    "\n",
    "myreduce(a,b)"
   ]
  }
 ],
 "metadata": {
  "kernelspec": {
   "display_name": "Python 3",
   "language": "python",
   "name": "python3"
  },
  "language_info": {
   "codemirror_mode": {
    "name": "ipython",
    "version": 3
   },
   "file_extension": ".py",
   "mimetype": "text/x-python",
   "name": "python",
   "nbconvert_exporter": "python",
   "pygments_lexer": "ipython3",
   "version": "3.6.4"
  }
 },
 "nbformat": 4,
 "nbformat_minor": 2
}
